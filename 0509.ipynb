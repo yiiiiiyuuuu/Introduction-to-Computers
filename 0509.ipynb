{
  "nbformat": 4,
  "nbformat_minor": 0,
  "metadata": {
    "colab": {
      "name": "0509.ipynb",
      "provenance": [],
      "authorship_tag": "ABX9TyNSn7+yHCx+aZUCMeT5eOvv",
      "include_colab_link": true
    },
    "kernelspec": {
      "name": "python3",
      "display_name": "Python 3"
    },
    "language_info": {
      "name": "python"
    }
  },
  "cells": [
    {
      "cell_type": "markdown",
      "metadata": {
        "id": "view-in-github",
        "colab_type": "text"
      },
      "source": [
        "<a href=\"https://colab.research.google.com/github/yiiiiiyuuuu/Introduction-to-Computers/blob/main/0509.ipynb\" target=\"_parent\"><img src=\"https://colab.research.google.com/assets/colab-badge.svg\" alt=\"Open In Colab\"/></a>"
      ]
    },
    {
      "cell_type": "code",
      "execution_count": 1,
      "metadata": {
        "colab": {
          "base_uri": "https://localhost:8080/"
        },
        "id": "n4j3PM_J9In8",
        "outputId": "206c5dc0-ea88-45dc-c925-d1dc041343d5"
      },
      "outputs": [
        {
          "output_type": "stream",
          "name": "stdout",
          "text": [
            "123\n"
          ]
        }
      ],
      "source": [
        "print(\"123\")"
      ]
    },
    {
      "cell_type": "code",
      "source": [
        "temp= float(input(\"請輸入你的體溫\"))\n",
        "if temp >=37.5:\n",
        "  print(\"體溫過高!\")\n",
        "elif temp>=37 and temp<37.4:\n",
        "  print(\"體溫略高!\")\n",
        "elif temp>=34 and temp<36.9:\n",
        "  print(\"體溫正常!\")\n",
        "\n",
        "else:\n",
        "  print(\"體溫異常，請重新量測!\")"
      ],
      "metadata": {
        "colab": {
          "base_uri": "https://localhost:8080/"
        },
        "id": "dl53pr6p9aHa",
        "outputId": "673271f0-c916-429c-88a3-d3c7faab2a00"
      },
      "execution_count": 2,
      "outputs": [
        {
          "output_type": "stream",
          "name": "stdout",
          "text": [
            "請輸入你的體溫35\n",
            "體溫正常!\n"
          ]
        }
      ]
    },
    {
      "cell_type": "code",
      "source": [
        "grade= float(input(\"請輸入成績\"))\n",
        "if grade >=90:\n",
        "  print(\"A\")\n",
        "elif grade>=80 and grade<90:\n",
        "  print(\"B\")\n",
        "elif grade>=70 and grade<80:\n",
        "  print(\"C\")\n",
        "elif grade>=60 and grade<70:\n",
        "  print(\"D\")\n",
        "else:\n",
        "  print(\"E\")"
      ],
      "metadata": {
        "colab": {
          "base_uri": "https://localhost:8080/"
        },
        "id": "1ctwfgSYBPhd",
        "outputId": "c38d1406-2991-4a96-d87a-1e0e0f5d35e5"
      },
      "execution_count": 10,
      "outputs": [
        {
          "output_type": "stream",
          "name": "stdout",
          "text": [
            "請輸入成績33\n",
            "E\n"
          ]
        }
      ]
    },
    {
      "cell_type": "code",
      "source": [
        "score=input(\"請輸入成績\")\n",
        "if(int(score)>=90):\n",
        "  print(\"A\")\n",
        "elif(int(score)>=80):\n",
        "  print(\"B\")\n",
        "elif(int(score)>=70):\n",
        "  print(\"C\")\n",
        "elif(int(score)>=60):\n",
        "  print(\"D\")\n",
        "else:\n",
        "  print(\"E\")"
      ],
      "metadata": {
        "colab": {
          "base_uri": "https://localhost:8080/"
        },
        "id": "wLhRbyVFEhBH",
        "outputId": "4ff6eb7f-f58c-4422-abf2-79619519cc3f"
      },
      "execution_count": 11,
      "outputs": [
        {
          "output_type": "stream",
          "name": "stdout",
          "text": [
            "請輸入成績80\n",
            "B\n"
          ]
        }
      ]
    },
    {
      "cell_type": "code",
      "source": [
        "money=int(input(\"請輸入購物金額:\"))\n",
        "if(money>=100000):\n",
        "  if(money>=100000):\n",
        "   print(\"八折\",money*0.8,end=\"元\\n\")\n",
        "  elif(money>=50000):\n",
        "    print(\"八五折\",money*0.85,end=\"元\\n\")\n",
        "  elif(money>=30000):\n",
        "    print(\"九折\",money*0.9,end=\"元\\n\")\n",
        "  else:\n",
        "    print(\"九五折\",money*0.95,end=\"元\\n\")\n",
        "else:\n",
        "  print(\"沒打折\",money,end=\"元\\n\")"
      ],
      "metadata": {
        "colab": {
          "base_uri": "https://localhost:8080/"
        },
        "id": "ebliWt7MFGRR",
        "outputId": "8a40bb3a-c8aa-4ffa-c221-964bf78ae79c"
      },
      "execution_count": 31,
      "outputs": [
        {
          "output_type": "stream",
          "name": "stdout",
          "text": [
            "請輸入購物金額:100000\n",
            "八折 80000.0元\n"
          ]
        }
      ]
    },
    {
      "cell_type": "code",
      "source": [
        "season= int(input(\"請輸入月份\"))\n",
        "if (season<=12):\n",
        "  if(season>=3 and season <=5 ):\n",
        "   print(season,\"月是春天!\")\n",
        "  elif(season>=6 and season <=8 ):\n",
        "   print(season,\"月是夏天!\")\n",
        "  elif(season>=9 and season <=11 ):\n",
        "   print(season,\"月是秋天!\")\n",
        "  else:\n",
        "   print(season,\"月是冬天!\")\n",
        "else:\n",
        "  print(\"月份不在範圍內!\")"
      ],
      "metadata": {
        "colab": {
          "base_uri": "https://localhost:8080/"
        },
        "id": "OPRP9swVJgr7",
        "outputId": "712c5fcd-4b17-4a32-94ec-43052561bf98"
      },
      "execution_count": 70,
      "outputs": [
        {
          "output_type": "stream",
          "name": "stdout",
          "text": [
            "請輸入月份13\n",
            "月份不在範圍內!\n"
          ]
        }
      ]
    },
    {
      "cell_type": "code",
      "source": [
        "tax=float(input(\"請輸入今年收入淨額:\"))\n",
        "if(tax>=300000):\n",
        "  if(tax>=300000 and tax<600000 ):\n",
        "   print(\"賦稅金額:\",tax*0.06,end=\"元\\n\")\n",
        "  elif(tax>=600000 and tax<1000000 ):\n",
        "    print(\"賦稅金額:\",tax*0.13,end=\"元\\n\")\n",
        "  elif(tax>=1000000 and tax<2000000 ):\n",
        "    print(\"賦稅金額:\",tax*0.21,end=\"元\\n\")\n",
        "  else:\n",
        "    print(\"賦稅金額:\",tax*0.3,end=\"元\\n\")\n",
        "else:\n",
        "  print(\"賦稅金額:0\",end=\"元\\n\")"
      ],
      "metadata": {
        "colab": {
          "base_uri": "https://localhost:8080/"
        },
        "id": "kBvjuDJ9N2rh",
        "outputId": "b9184aec-ec01-466f-99cb-4c6eba26a936"
      },
      "execution_count": 88,
      "outputs": [
        {
          "output_type": "stream",
          "name": "stdout",
          "text": [
            "請輸入今年收入淨額:100000\n",
            "賦稅金額:0元\n"
          ]
        }
      ]
    }
  ]
}