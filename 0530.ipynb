{
  "nbformat": 4,
  "nbformat_minor": 0,
  "metadata": {
    "colab": {
      "name": "0530.ipynb",
      "provenance": [],
      "authorship_tag": "ABX9TyOXocPRv1ayhnQmc49KB1YE",
      "include_colab_link": true
    },
    "kernelspec": {
      "name": "python3",
      "display_name": "Python 3"
    },
    "language_info": {
      "name": "python"
    }
  },
  "cells": [
    {
      "cell_type": "markdown",
      "metadata": {
        "id": "view-in-github",
        "colab_type": "text"
      },
      "source": [
        "<a href=\"https://colab.research.google.com/github/yiiiiiyuuuu/Introduction-to-Computers/blob/main/0530.ipynb\" target=\"_parent\"><img src=\"https://colab.research.google.com/assets/colab-badge.svg\" alt=\"Open In Colab\"/></a>"
      ]
    },
    {
      "cell_type": "code",
      "execution_count": null,
      "metadata": {
        "id": "6q0ijjQFCD3l"
      },
      "outputs": [],
      "source": [
        "print(\"0530\")"
      ]
    },
    {
      "cell_type": "code",
      "source": [
        "for i in range(2,10):\n",
        "  for j in range(1,10):\n",
        "    product=i*j\n",
        "    print(\"%d*%d=%2d   \" % (i,j,product),end=\" \")\n",
        "  print()"
      ],
      "metadata": {
        "colab": {
          "base_uri": "https://localhost:8080/"
        },
        "id": "UlSGbhPaChsb",
        "outputId": "4d5ab1f0-be2d-4ce0-971a-c3bedd732039"
      },
      "execution_count": null,
      "outputs": [
        {
          "output_type": "stream",
          "name": "stdout",
          "text": [
            "2*1= 2    2*2= 4    2*3= 6    2*4= 8    2*5=10    2*6=12    2*7=14    2*8=16    2*9=18    \n",
            "3*1= 3    3*2= 6    3*3= 9    3*4=12    3*5=15    3*6=18    3*7=21    3*8=24    3*9=27    \n",
            "4*1= 4    4*2= 8    4*3=12    4*4=16    4*5=20    4*6=24    4*7=28    4*8=32    4*9=36    \n",
            "5*1= 5    5*2=10    5*3=15    5*4=20    5*5=25    5*6=30    5*7=35    5*8=40    5*9=45    \n",
            "6*1= 6    6*2=12    6*3=18    6*4=24    6*5=30    6*6=36    6*7=42    6*8=48    6*9=54    \n",
            "7*1= 7    7*2=14    7*3=21    7*4=28    7*5=35    7*6=42    7*7=49    7*8=56    7*9=63    \n",
            "8*1= 8    8*2=16    8*3=24    8*4=32    8*5=40    8*6=48    8*7=56    8*8=64    8*9=72    \n",
            "9*1= 9    9*2=18    9*3=27    9*4=36    9*5=45    9*6=54    9*7=63    9*8=72    9*9=81    \n"
          ]
        }
      ]
    },
    {
      "cell_type": "code",
      "source": [
        "a=int(input(\"請輸入a的值\"))\n",
        "b=int(input(\"請輸入b的值\"))\n",
        "\n",
        "maxno = a * b\n",
        "for i in range(1,maxno+1):\n",
        "  if(i %a==0 and i % b==0):\n",
        "    break\n",
        "print(\"%d和%d的最小公倍數=%d\"%(a,b,i))"
      ],
      "metadata": {
        "colab": {
          "base_uri": "https://localhost:8080/"
        },
        "id": "YawI8i-IEBNa",
        "outputId": "64cc4005-c925-423e-885a-0b3bee3c1101"
      },
      "execution_count": null,
      "outputs": [
        {
          "output_type": "stream",
          "name": "stdout",
          "text": [
            "請輸入a的值4\n",
            "請輸入b的值5\n",
            "4和5的最小公倍數=20\n"
          ]
        }
      ]
    },
    {
      "cell_type": "code",
      "source": [
        "n=int(input(\"請輸入正整數:\"))\n",
        "for i in range(1,n+1):\n",
        "  if i%5==0:\n",
        "    continue\n",
        "  print(i,end=\" \")"
      ],
      "metadata": {
        "colab": {
          "base_uri": "https://localhost:8080/"
        },
        "id": "pvICvt3sQNhA",
        "outputId": "e83afb72-279e-46ea-c626-f02b79457c32"
      },
      "execution_count": null,
      "outputs": [
        {
          "output_type": "stream",
          "name": "stdout",
          "text": [
            "請輸入正整數:21\n",
            "1 2 3 4 6 7 8 9 11 12 13 14 16 17 18 19 21 "
          ]
        }
      ]
    },
    {
      "cell_type": "code",
      "source": [
        "total=n=0\n",
        "while(n<=10):\n",
        "  total+=n\n",
        "  n+=1\n",
        "print(total)"
      ],
      "metadata": {
        "colab": {
          "base_uri": "https://localhost:8080/"
        },
        "id": "RTck6orZI1la",
        "outputId": "2af99289-6299-4e9e-da23-54ba539051ae"
      },
      "execution_count": null,
      "outputs": [
        {
          "output_type": "stream",
          "name": "stdout",
          "text": [
            "55\n"
          ]
        }
      ]
    },
    {
      "cell_type": "code",
      "source": [
        "total=i=1\n",
        "n=int(input(\"請輸入正整數:\"))\n",
        "while i<=n:\n",
        "  total*=i\n",
        "  i+=1\n",
        "print(\"%d!=%d\"%(n,total))"
      ],
      "metadata": {
        "colab": {
          "base_uri": "https://localhost:8080/"
        },
        "id": "CNqlxiVDKM4Y",
        "outputId": "b759ea0e-def3-4e0e-f1b9-23ed498fb31d"
      },
      "execution_count": null,
      "outputs": [
        {
          "output_type": "stream",
          "name": "stdout",
          "text": [
            "請輸入正整數:5\n",
            "5!=120\n"
          ]
        }
      ]
    },
    {
      "cell_type": "code",
      "source": [
        "i=0\n",
        "b=0\n",
        "c=0\n",
        "while i<=50:\n",
        "  if i%2==0:\n",
        "    b+=i\n",
        "  else:\n",
        "    c+=i\n",
        "  i+=1\n",
        "print('0～50的偶數和結果是=',b)\n",
        "print('0～50的奇數和結果是=',c)\n",
        "\n"
      ],
      "metadata": {
        "colab": {
          "base_uri": "https://localhost:8080/"
        },
        "id": "za2SNq86Ris4",
        "outputId": "44c12c82-6995-4fe4-a71c-6e3e29cbb64f"
      },
      "execution_count": null,
      "outputs": [
        {
          "output_type": "stream",
          "name": "stdout",
          "text": [
            "0～50的偶數和結果是= 650\n",
            "0～50的奇數和結果是= 625\n"
          ]
        }
      ]
    },
    {
      "cell_type": "code",
      "source": [
        "n=int(input(\"請輸入正整數:\"))\n",
        "for i in range(n):\n",
        "  print((n-i)*'*')"
      ],
      "metadata": {
        "colab": {
          "base_uri": "https://localhost:8080/"
        },
        "id": "HyRRw0tcVpMi",
        "outputId": "17e43094-c944-487a-bc13-64beff21f6fc"
      },
      "execution_count": null,
      "outputs": [
        {
          "output_type": "stream",
          "name": "stdout",
          "text": [
            "請輸入正整數:7\n",
            "*******\n",
            "******\n",
            "*****\n",
            "****\n",
            "***\n",
            "**\n",
            "*\n"
          ]
        }
      ]
    },
    {
      "cell_type": "code",
      "source": [
        "n=int(input(\"請輸入正整數:\"))\n",
        "for i in range(n):\n",
        "  print((n-i)*'*')"
      ],
      "metadata": {
        "colab": {
          "base_uri": "https://localhost:8080/"
        },
        "id": "5frn17YFc0Kw",
        "outputId": "1c9f235a-4fae-4085-96f1-8983c5ca6742"
      },
      "execution_count": null,
      "outputs": [
        {
          "output_type": "stream",
          "name": "stdout",
          "text": [
            "請輸入正整數:5\n",
            "*****\n",
            "****\n",
            "***\n",
            "**\n",
            "*\n"
          ]
        }
      ]
    },
    {
      "cell_type": "code",
      "source": [
        "sum = 0\n",
        "for i in range(1,101):\n",
        "    if i % 3 == 0 or i % 7 ==0:\n",
        "        sum += i\n",
        "print(\"數值1～100中，所有是3或是7倍數的數之總和=\" +str(sum))"
      ],
      "metadata": {
        "colab": {
          "base_uri": "https://localhost:8080/"
        },
        "id": "vStHebOodBHQ",
        "outputId": "eb4ae92b-c1ed-4f44-c499-4091bfc4ab0d"
      },
      "execution_count": null,
      "outputs": [
        {
          "output_type": "stream",
          "name": "stdout",
          "text": [
            "數值1～100中，所有是3或是7倍數的數之總和=2208\n"
          ]
        }
      ]
    },
    {
      "cell_type": "code",
      "source": [
        "n=int(input(\"請輸入正整數:\"))\n",
        "list1=[i for i in range(1,n+1)]\n",
        "list2=list1[::-1]\n",
        "list3=[]\n",
        "for a in list1:\n",
        "  for b in list2:\n",
        "    if a*b==n:\n",
        "      list3.append(a)\n",
        "print(n,\"的因數有\",list3)\n",
        "\n",
        "c=2\n",
        "while c<n:\n",
        "  if n%c == 0:\n",
        "    print(n,'不是質數')\n",
        "    break\n",
        "  c+=1\n",
        "if c==n:\n",
        "  print(n,'是質數')"
      ],
      "metadata": {
        "colab": {
          "base_uri": "https://localhost:8080/"
        },
        "id": "sC5FGlh7dFEX",
        "outputId": "f818422c-a3d3-43b2-e26c-9cfba595dcb6"
      },
      "execution_count": 92,
      "outputs": [
        {
          "output_type": "stream",
          "name": "stdout",
          "text": [
            "請輸入正整數:12\n",
            "12 的因數有 [1, 2, 3, 4, 6, 12]\n",
            "12 不是質數\n"
          ]
        }
      ]
    },
    {
      "cell_type": "code",
      "source": [
        "n=int(input(\"請輸入正整數:\"))\n",
        "list1=[i for i in range(1,n+1)]\n",
        "list2=list1[::-1]\n",
        "list3=[]\n",
        "for a in list1:\n",
        "  for b in list2:\n",
        "    if a*b==n:\n",
        "      list3.append(a)\n",
        "print(n,\"的因數有\",list3)\n",
        "\n",
        "c=2\n",
        "while c<n:\n",
        "  if n%c == 0:\n",
        "    print(n,'不是質數')\n",
        "    break\n",
        "  c+=1\n",
        "if c==n:\n",
        "  print(n,'是質數')"
      ],
      "metadata": {
        "colab": {
          "base_uri": "https://localhost:8080/"
        },
        "id": "v03jxM6Tktk4",
        "outputId": "b1fb56ee-1da9-48e6-e556-ce75e59658fd"
      },
      "execution_count": 93,
      "outputs": [
        {
          "output_type": "stream",
          "name": "stdout",
          "text": [
            "請輸入正整數:11\n",
            "11 的因數有 [1, 11]\n",
            "11 是質數\n"
          ]
        }
      ]
    }
  ]
}